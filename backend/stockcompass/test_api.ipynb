{
 "cells": [
  {
   "cell_type": "code",
   "execution_count": 9,
   "metadata": {},
   "outputs": [
    {
     "name": "stdout",
     "output_type": "stream",
     "text": [
      "Status Code: 200\n",
      "Response JSON: {'status_code': 200, 'unusual_ranges': [['2025-01-16', '2025-02-03'], ['2024-07-24', '2024-08-05'], ['2024-09-19', '2024-10-01']]}\n"
     ]
    }
   ],
   "source": [
    "import yfinance as yf\n",
    "import requests\n",
    "\n",
    "# URL of the unusual_ranges API endpoint.\n",
    "url = \"http://localhost:8000/api/unusual_range/\"\n",
    "\n",
    "# Retrieve historical data for AAPL using yfinance.\n",
    "hist = yf.Ticker(\"AAPL\").history(period=\"1y\",interval=\"1d\")\n",
    "\n",
    "# Build payload in the expected format:\n",
    "# - \"time\": list of date strings (\"YYYY-MM-DD\")\n",
    "# - \"price\": list of closing prices\n",
    "# - \"volume\": list of volumes\n",
    "payload = {\n",
    "    \"data\": {\n",
    "        \"time\": hist.index.strftime(\"%Y-%m-%d\").tolist(),\n",
    "        \"price\": hist[\"Close\"].tolist(),\n",
    "        \"volume\": hist[\"Volume\"].tolist()\n",
    "    }\n",
    "}\n",
    "\n",
    "# Send the POST request.\n",
    "response = requests.post(url, json=payload)\n",
    "\n",
    "# Print out the HTTP status code and the response JSON.\n",
    "print(\"Status Code:\", response.status_code)\n",
    "print(\"Response JSON:\", response.json())"
   ]
  }
 ],
 "metadata": {
  "kernelspec": {
   "display_name": "py38",
   "language": "python",
   "name": "python3"
  },
  "language_info": {
   "codemirror_mode": {
    "name": "ipython",
    "version": 3
   },
   "file_extension": ".py",
   "mimetype": "text/x-python",
   "name": "python",
   "nbconvert_exporter": "python",
   "pygments_lexer": "ipython3",
   "version": "3.8.16"
  }
 },
 "nbformat": 4,
 "nbformat_minor": 2
}
