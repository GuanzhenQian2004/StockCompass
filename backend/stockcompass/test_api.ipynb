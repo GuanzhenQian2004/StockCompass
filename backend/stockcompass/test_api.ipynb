{
 "cells": [
  {
   "cell_type": "code",
   "execution_count": 10,
   "metadata": {},
   "outputs": [
    {
     "name": "stdout",
     "output_type": "stream",
     "text": [
      "Status Code: 200\n",
      "Response JSON: {'status_code': 200, 'unusual_ranges': [['2025-01-08', '2025-01-12']]}\n"
     ]
    }
   ],
   "source": [
    "import requests\n",
    "\n",
    "# URL of the unusual_ranges API endpoint.\n",
    "url = \"http://localhost:8000/api/unusual_range/\"\n",
    "\n",
    "# Sample payload using the new data format.\n",
    "# \"time\" is an array of date strings.\n",
    "# \"price\" is an array of prices corresponding to those dates.\n",
    "# \"volume\" is an array of volumes.\n",
    "# Here, we've inserted some unusual jumps in the price data to trigger the unusual range detection.\n",
    "payload = {\n",
    "    \"data\": {\n",
    "        \"time\": [\n",
    "            \"2025-01-01\", \"2025-01-02\", \"2025-01-03\", \"2025-01-04\",\n",
    "            \"2025-01-05\", \"2025-01-06\", \"2025-01-07\", \"2025-01-08\",\n",
    "            \"2025-01-09\", \"2025-01-10\", \"2025-01-11\", \"2025-01-12\",\n",
    "            \"2025-01-13\", \"2025-01-14\", \"2025-01-15\"\n",
    "        ],\n",
    "        \"price\": [\n",
    "            100, 101, 102, 103, 104, 105, 106, 140, 141, 107, 108, 70, 69, 70, 71\n",
    "        ],\n",
    "        \"volume\": [\n",
    "            1000, 1100, 1050, 1020, 1030, 1010, 1000, 990, 980, 970, 960, 950, 940, 930, 920\n",
    "        ]\n",
    "    }\n",
    "}\n",
    "\n",
    "# Send the POST request.\n",
    "response = requests.post(url, json=payload)\n",
    "\n",
    "# Print out the HTTP status code and the response JSON.\n",
    "print(\"Status Code:\", response.status_code)\n",
    "print(\"Response JSON:\", response.json())"
   ]
  }
 ],
 "metadata": {
  "kernelspec": {
   "display_name": "py38",
   "language": "python",
   "name": "python3"
  },
  "language_info": {
   "codemirror_mode": {
    "name": "ipython",
    "version": 3
   },
   "file_extension": ".py",
   "mimetype": "text/x-python",
   "name": "python",
   "nbconvert_exporter": "python",
   "pygments_lexer": "ipython3",
   "version": "3.8.16"
  }
 },
 "nbformat": 4,
 "nbformat_minor": 2
}
